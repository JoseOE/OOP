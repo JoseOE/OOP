{
 "cells": [
  {
   "cell_type": "code",
   "execution_count": 32,
   "id": "17d3a944-f901-4cbd-909b-ab42caa780b7",
   "metadata": {},
   "outputs": [],
   "source": [
    "class Time:\n",
    "    def __init__(self, horas, minutos, segundos):\n",
    "        \n",
    "        self.horas = horas\n",
    "        self.minutos = minutos\n",
    "        self.segundos = segundos\n",
    "    \n",
    "    def total_seconds(self):\n",
    "        \n",
    "        total_seconds = (self.horas * 60 * 60)+(self.minutos * 60) + self.segundos\n",
    "        \n",
    "        return total_seconds\n",
    "\n",
    "    def __str__(self):\n",
    "        \n",
    "        if(self.horas < 10):\n",
    "            self.horas = f'0{self.horas}'\n",
    "        if(self.minutos< 10):\n",
    "            self.minutos = f'0{self.minutos}'\n",
    "        if(self.segundos < 10):\n",
    "            self.segundos = f'0{self.segundos}'\n",
    "            \n",
    "        return(f'{self.horas} : {self.minutos} : {self.segundos}')"
   ]
  },
  {
   "cell_type": "code",
   "execution_count": 33,
   "id": "f7055069-8170-4738-b0ce-4950e538d540",
   "metadata": {},
   "outputs": [
    {
     "name": "stdout",
     "output_type": "stream",
     "text": [
      "7803\n",
      "02 : 10 : 03\n"
     ]
    }
   ],
   "source": [
    "datos1 = Time(2, 10, 3)\n",
    "print(datos1.total_seconds())\n",
    "print(f'{datos1}')"
   ]
  },
  {
   "cell_type": "code",
   "execution_count": 34,
   "id": "29ebbcd0-fa2c-4514-890d-27ac07b246af",
   "metadata": {},
   "outputs": [
    {
     "name": "stdout",
     "output_type": "stream",
     "text": [
      "59591\n",
      "16 : 33 : 11\n"
     ]
    }
   ],
   "source": [
    "datos2 = Time(16, 33, 11)\n",
    "print(datos2.total_seconds())\n",
    "print(f'{datos2}')"
   ]
  }
 ],
 "metadata": {
  "kernelspec": {
   "display_name": "Python 3 (ipykernel)",
   "language": "python",
   "name": "python3"
  },
  "language_info": {
   "codemirror_mode": {
    "name": "ipython",
    "version": 3
   },
   "file_extension": ".py",
   "mimetype": "text/x-python",
   "name": "python",
   "nbconvert_exporter": "python",
   "pygments_lexer": "ipython3",
   "version": "3.11.4"
  }
 },
 "nbformat": 4,
 "nbformat_minor": 5
}
