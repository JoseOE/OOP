{
 "cells": [
  {
   "cell_type": "markdown",
   "id": "f18a4228-5879-401a-ba79-16641f75c7cf",
   "metadata": {},
   "source": [
    "## Ejercicio 4 de OOP"
   ]
  },
  {
   "cell_type": "markdown",
   "id": "805f88e6-60d1-4789-abc0-7ded67505189",
   "metadata": {},
   "source": [
    "<img src=\"./Diagramas_clases/04_overrinding.png\" alt=\"Ex 1\" width=\"500\">"
   ]
  },
  {
   "cell_type": "code",
   "execution_count": null,
   "id": "965f74f7-1e33-4896-83a6-068d668f2763",
   "metadata": {},
   "outputs": [],
   "source": []
  }
 ],
 "metadata": {
  "kernelspec": {
   "display_name": "Python 3 (ipykernel)",
   "language": "python",
   "name": "python3"
  },
  "language_info": {
   "codemirror_mode": {
    "name": "ipython",
    "version": 3
   },
   "file_extension": ".py",
   "mimetype": "text/x-python",
   "name": "python",
   "nbconvert_exporter": "python",
   "pygments_lexer": "ipython3",
   "version": "3.11.4"
  }
 },
 "nbformat": 4,
 "nbformat_minor": 5
}
