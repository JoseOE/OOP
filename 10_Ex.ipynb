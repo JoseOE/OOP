{
 "cells": [
  {
   "cell_type": "code",
   "execution_count": 4,
   "id": "e6773b70-7cf7-4e35-a7d9-dc19dd8354c1",
   "metadata": {},
   "outputs": [],
   "source": [
    "class frec_table:\n",
    "    def __init__(self):\n",
    "        self.count = {}\n",
    "\n",
    "    def Add(self, element):\n",
    "            if element in self.count:\n",
    "                self.count[element] += 1\n",
    "            else:\n",
    "                self.count[element] =1\n",
    "\n",
    "    def count(self, element):\n",
    "\n",
    "        if element in self.count:\n",
    "            return self.count.get(element)\n",
    "        else:\n",
    "            return ('0')\n",
    "        "
   ]
  },
  {
   "cell_type": "code",
   "execution_count": 8,
   "id": "6a0588d7-5008-4045-b416-3ff5ca420489",
   "metadata": {},
   "outputs": [
    {
     "name": "stdout",
     "output_type": "stream",
     "text": [
      "{'Hola': 2, 12: 2}\n"
     ]
    },
    {
     "ename": "KeyError",
     "evalue": "1",
     "output_type": "error",
     "traceback": [
      "\u001b[0;31m---------------------------------------------------------------------------\u001b[0m",
      "\u001b[0;31mKeyError\u001b[0m                                  Traceback (most recent call last)",
      "Cell \u001b[0;32mIn[8], line 9\u001b[0m\n\u001b[1;32m      5\u001b[0m ft\u001b[38;5;241m.\u001b[39mAdd(\u001b[38;5;241m12\u001b[39m)\n\u001b[1;32m      7\u001b[0m \u001b[38;5;28mprint\u001b[39m(ft\u001b[38;5;241m.\u001b[39mcount)\n\u001b[0;32m----> 9\u001b[0m \u001b[38;5;28mprint\u001b[39m(\u001b[43mft\u001b[49m\u001b[38;5;241;43m.\u001b[39;49m\u001b[43mcount\u001b[49m\u001b[43m[\u001b[49m\u001b[38;5;241;43m1\u001b[39;49m\u001b[43m]\u001b[49m)\n",
      "\u001b[0;31mKeyError\u001b[0m: 1"
     ]
    }
   ],
   "source": [
    "ft = frec_table()\n",
    "ft.Add('Hola')\n",
    "ft.Add('Hola')\n",
    "ft.Add(12)\n",
    "ft.Add(12)\n",
    "\n",
    "print(ft.count)\n",
    "\n",
    "print(ft.count[1])\n",
    "\n"
   ]
  }
 ],
 "metadata": {
  "kernelspec": {
   "display_name": "Python 3 (ipykernel)",
   "language": "python",
   "name": "python3"
  },
  "language_info": {
   "codemirror_mode": {
    "name": "ipython",
    "version": 3
   },
   "file_extension": ".py",
   "mimetype": "text/x-python",
   "name": "python",
   "nbconvert_exporter": "python",
   "pygments_lexer": "ipython3",
   "version": "3.11.4"
  }
 },
 "nbformat": 4,
 "nbformat_minor": 5
}
