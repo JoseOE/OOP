{
 "cells": [
  {
   "cell_type": "markdown",
   "id": "210b1e92-86fd-48d1-bb29-c2bd11c33581",
   "metadata": {},
   "source": [
    "## Ejercicio 3 de OOP"
   ]
  },
  {
   "cell_type": "markdown",
   "id": "6d82182b-e640-4d73-8525-9abc0dc894c2",
   "metadata": {},
   "source": [
    "<img src=\"./Diagramas_clases/03_herencia.png\" alt=\"Ex 1\" width=\"200\">"
   ]
  },
  {
   "cell_type": "markdown",
   "id": "444f26e4-e417-4200-866c-48b22e975a42",
   "metadata": {},
   "source": [
    "## Clase Employee\n",
    "\n",
    "- *int id*: Atributo de instancia. Identificador unico para cada instancia de Employee.\n",
    "- *int new_id*: Atributo de clase. Identificador unico.\n",
    "- *void say_id()*:  Imprime 'Mi id es: {self.id}."
   ]
  },
  {
   "cell_type": "code",
   "execution_count": 25,
   "id": "078783c4-737c-40e8-bdbf-2cde4d1226de",
   "metadata": {},
   "outputs": [],
   "source": [
    "class Employee:\n",
    "    new_id = 1\n",
    "    \n",
    "    def __init__(self):\n",
    "        self.id = Employee.new_id        \n",
    "        Employee.new_id += 1\n",
    "        \n",
    "    def say_id(self):\n",
    "        print(f'Mi id es {self.id}')"
   ]
  },
  {
   "cell_type": "code",
   "execution_count": 26,
   "id": "77b067bf-24e1-4d07-a50b-1d2b0f64d0df",
   "metadata": {},
   "outputs": [
    {
     "name": "stdout",
     "output_type": "stream",
     "text": [
      "Mi id es 1\n",
      "Mi id es 2\n"
     ]
    }
   ],
   "source": [
    "Savana = Employee()\n",
    "Savana.say_id()\n",
    "\n",
    "Dakota = Employee()\n",
    "Dakota.say_id()"
   ]
  },
  {
   "cell_type": "markdown",
   "id": "d47d9af7-fa4e-477e-b0e3-618a36a0f604",
   "metadata": {},
   "source": [
    "## Clase Admin\n",
    "- **void say_id()**: Imprime:\n",
    "  - 'Mi id es {self.id}'\n",
    "  - 'Soy administrador'"
   ]
  },
  {
   "cell_type": "code",
   "execution_count": 27,
   "id": "40b63335-11dd-4b21-be31-a4f4e01e75a2",
   "metadata": {},
   "outputs": [],
   "source": [
    "class Admin(Employee):\n",
    "    def say_id(self):\n",
    "        super().say_id()\n",
    "        print('Soy administrador')"
   ]
  },
  {
   "cell_type": "code",
   "execution_count": 28,
   "id": "d4af34f2-5d9a-4219-a093-988d253d9973",
   "metadata": {},
   "outputs": [
    {
     "name": "stdout",
     "output_type": "stream",
     "text": [
      "Mi id es 3\n",
      "Soy administrador\n"
     ]
    }
   ],
   "source": [
    "Valeria = Admin()\n",
    "Valeria.say_id()"
   ]
  },
  {
   "cell_type": "markdown",
   "id": "3af80cb4-a823-46dd-a160-b31de7493dfa",
   "metadata": {},
   "source": [
    "## Clase Manager\n",
    "- **void say_id()**: Imprime:\n",
    "  - 'Mi id es {self.id}'\n",
    "  - 'Soy administrador'\n",
    "  - 'Estoy a cargo'\n"
   ]
  },
  {
   "cell_type": "code",
   "execution_count": 29,
   "id": "75f131d1-5c2a-4a16-9bcc-f1513a84b165",
   "metadata": {},
   "outputs": [],
   "source": [
    "class Manager(Admin):\n",
    "    def say_id(self):\n",
    "        super().say_id()\n",
    "        print('Estoy a cargo')"
   ]
  },
  {
   "cell_type": "code",
   "execution_count": 30,
   "id": "40ff98ff-c721-46cc-b8bc-037fb66e7628",
   "metadata": {},
   "outputs": [
    {
     "name": "stdout",
     "output_type": "stream",
     "text": [
      "Mi id es 4\n",
      "Soy administrador\n",
      "Estoy a cargo\n"
     ]
    }
   ],
   "source": [
    "Edwin = Manager()\n",
    "Edwin.say_id()"
   ]
  }
 ],
 "metadata": {
  "kernelspec": {
   "display_name": "Python 3 (ipykernel)",
   "language": "python",
   "name": "python3"
  },
  "language_info": {
   "codemirror_mode": {
    "name": "ipython",
    "version": 3
   },
   "file_extension": ".py",
   "mimetype": "text/x-python",
   "name": "python",
   "nbconvert_exporter": "python",
   "pygments_lexer": "ipython3",
   "version": "3.11.4"
  }
 },
 "nbformat": 4,
 "nbformat_minor": 5
}
