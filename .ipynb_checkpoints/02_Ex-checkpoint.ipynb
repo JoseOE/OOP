{
 "cells": [
  {
   "cell_type": "markdown",
   "id": "32709d22-a164-41f7-9787-b45e50d45de8",
   "metadata": {},
   "source": [
    "## Ejercicio 2 de OOP"
   ]
  },
  {
   "cell_type": "markdown",
   "id": "315cdf69-c683-4431-8ebd-9818e408fba1",
   "metadata": {},
   "source": [
    "<img src=\"./Diagramas_clases/02_herencia.png\" alt=\"Ex 1\" width=\"500\">"
   ]
  },
  {
   "cell_type": "markdown",
   "id": "5d47c323-f435-4e77-abc2-5dbbcb815be0",
   "metadata": {},
   "source": [
    "- **void eat()**: Imprime 'Yummy yummy! estoy comiendo'.\n",
    "- **void meow()**: Imprime'Soy un gato y hago meow!'.\n",
    "- **void bark()**: Imprime 'Soy un perro y hago woof!'."
   ]
  },
  {
   "cell_type": "code",
   "execution_count": 10,
   "id": "211055fb-252d-4d01-a0f1-0ef222b4fca1",
   "metadata": {},
   "outputs": [],
   "source": [
    "class Animal:\n",
    "    def __init__(self, name):\n",
    "        self.name = name\n",
    "        \n",
    "    def eat(self):\n",
    "        print(f'Yummy yummy! estoy comiendo')\n",
    "\n",
    "class Cat(Animal):\n",
    "    def meow(self):\n",
    "        print(f'Soy {self.name} y hago meow!')\n",
    "\n",
    "class Dog(Animal):\n",
    "    def bark(self):\n",
    "        print(f'Soy {self.name} y hago woof!')"
   ]
  },
  {
   "cell_type": "code",
   "execution_count": 13,
   "id": "53d067d4-aa5f-42f3-ae56-d9dbb590a540",
   "metadata": {},
   "outputs": [
    {
     "name": "stdout",
     "output_type": "stream",
     "text": [
      "Soy michu y hago meow!\n",
      "Yummy yummy! estoy comiendo\n",
      "Soy firulais y hago woof!\n",
      "Yummy yummy! estoy comiendo\n"
     ]
    }
   ],
   "source": [
    "michu = Cat('michu')\n",
    "firulais = Dog('firulais')\n",
    "\n",
    "michu.meow()\n",
    "michu.eat()\n",
    "firulais.bark()\n",
    "firulais.eat()"
   ]
  }
 ],
 "metadata": {
  "kernelspec": {
   "display_name": "Python 3 (ipykernel)",
   "language": "python",
   "name": "python3"
  },
  "language_info": {
   "codemirror_mode": {
    "name": "ipython",
    "version": 3
   },
   "file_extension": ".py",
   "mimetype": "text/x-python",
   "name": "python",
   "nbconvert_exporter": "python",
   "pygments_lexer": "ipython3",
   "version": "3.11.4"
  }
 },
 "nbformat": 4,
 "nbformat_minor": 5
}
