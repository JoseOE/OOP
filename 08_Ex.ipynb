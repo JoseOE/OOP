{
 "cells": [
  {
   "cell_type": "code",
   "execution_count": 7,
   "id": "9354824d-fee9-48f3-b5de-4756e70265c4",
   "metadata": {},
   "outputs": [],
   "source": [
    "    import math\n",
    "\n",
    "    class Point2D:\n",
    "        \n",
    "        def __init__(self, x, y):\n",
    "            self.x = x\n",
    "            self.y = y\n",
    "    \n",
    "        def calculate_distance(self, punto2):\n",
    "            a = self.x - punto2.x\n",
    "            b = self.y - punto2.y\n",
    "            \n",
    "            return math.sqrt(a**2 + b**2)"
   ]
  },
  {
   "cell_type": "code",
   "execution_count": 8,
   "id": "3f8ab288-411b-4d41-8ac9-1ef674341591",
   "metadata": {},
   "outputs": [
    {
     "name": "stdout",
     "output_type": "stream",
     "text": [
      "La distancia entre los puntos es: 15.0\n"
     ]
    }
   ],
   "source": [
    "punto1 = Point2D(-3, 4)\n",
    "\n",
    "punto2 = Point2D(9, -5)\n",
    "\n",
    "distancia = punto1.calculate_distance(punto2)\n",
    "print(f\"La distancia entre los puntos es: {distancia}\")"
   ]
  }
 ],
 "metadata": {
  "kernelspec": {
   "display_name": "Python 3 (ipykernel)",
   "language": "python",
   "name": "python3"
  },
  "language_info": {
   "codemirror_mode": {
    "name": "ipython",
    "version": 3
   },
   "file_extension": ".py",
   "mimetype": "text/x-python",
   "name": "python",
   "nbconvert_exporter": "python",
   "pygments_lexer": "ipython3",
   "version": "3.11.4"
  }
 },
 "nbformat": 4,
 "nbformat_minor": 5
}
