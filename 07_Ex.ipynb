{
 "cells": [
  {
   "cell_type": "code",
   "execution_count": 64,
   "id": "306efe19-218a-400d-855c-ce28acce4048",
   "metadata": {},
   "outputs": [],
   "source": [
    "class Persona:\n",
    "    def __init__(self, apellido_paterno, apellido_materno, nombres):\n",
    "        self.apellido_paterno = apellido_paterno\n",
    "        self.apellido_materno = apellido_materno\n",
    "        self.nombres = nombres\n",
    "\n",
    "    def __str__(self):\n",
    "        apellido_paterno_cap = self.apellido_paterno.capitalize()\n",
    "        apellido_materno_cap = self.apellido_materno.capitalize()\n",
    "        nombres_cap = self.nombres.title ()\n",
    "      \n",
    "        return f\"{nombres_cap} {apellido_paterno_cap} {apellido_materno_cap}\""
   ]
  },
  {
   "cell_type": "code",
   "execution_count": 65,
   "id": "b57c5956-9d69-4196-83fe-1afa5d3487e0",
   "metadata": {},
   "outputs": [
    {
     "name": "stdout",
     "output_type": "stream",
     "text": [
      "Juan Pablo González Ramírez\n"
     ]
    }
   ],
   "source": [
    "# Ejemplo de uso\n",
    "persona = Persona(\"gonzáLez\", \"Ramírez\", \"juan Pablo\")\n",
    "print(persona)"
   ]
  }
 ],
 "metadata": {
  "kernelspec": {
   "display_name": "Python 3 (ipykernel)",
   "language": "python",
   "name": "python3"
  },
  "language_info": {
   "codemirror_mode": {
    "name": "ipython",
    "version": 3
   },
   "file_extension": ".py",
   "mimetype": "text/x-python",
   "name": "python",
   "nbconvert_exporter": "python",
   "pygments_lexer": "ipython3",
   "version": "3.11.4"
  }
 },
 "nbformat": 4,
 "nbformat_minor": 5
}
