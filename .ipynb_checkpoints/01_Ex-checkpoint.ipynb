{
 "cells": [
  {
   "cell_type": "markdown",
   "id": "fa610562-2778-4199-9f6b-d03aff335676",
   "metadata": {},
   "source": [
    "## Ejercicio 1 de OOP"
   ]
  },
  {
   "cell_type": "markdown",
   "id": "a1d0454c-ec09-4e03-b8f5-7aeac80dccfd",
   "metadata": {},
   "source": [
    "<img src=\"./Diagramas_clases/01_create_class.png\" alt=\"Ex 1\" width=\"500\">"
   ]
  },
  {
   "cell_type": "markdown",
   "id": "92304f60-041e-40df-8d98-61acc9f65369",
   "metadata": {},
   "source": [
    "- **int id**: Asigna un identificador unico a cada instancia `Employee`.\n",
    "- **int new_id**: Variable global de `Employee`\n",
    "- **void say_id()**:Imprimi el `id` de la instancia."
   ]
  },
  {
   "cell_type": "code",
   "execution_count": 63,
   "id": "390ed01b-f94f-41cb-bfcf-cbde182dedf4",
   "metadata": {},
   "outputs": [],
   "source": [
    "class Employee:\n",
    "    new_id = 1\n",
    "\n",
    "    def __init__(self, name, age):\n",
    "        self.id = Employee.new_id\n",
    "        self.name = name\n",
    "        self.age = age\n",
    "        Employee.new_id += 1\n",
    "\n",
    "    def say_id(self):\n",
    "        print(f'Mi nombre es {self.name}, mi edad es {self.age} y mi id es {self.id}')\n",
    "\n",
    "    def say_age(self):\n",
    "        print(f'Mi edad es {self.age}')"
   ]
  },
  {
   "cell_type": "code",
   "execution_count": 66,
   "id": "e45e3377-6036-4cbf-a8e8-bf537cf47438",
   "metadata": {},
   "outputs": [
    {
     "name": "stdout",
     "output_type": "stream",
     "text": [
      "Mi nombre es Savana, mi edad es 22 y mi id es 5\n",
      "Mi edad es 22\n",
      "Mi nombre es Dakota, mi edad es 17 y mi id es 6\n",
      "Mi edad es 17\n"
     ]
    }
   ],
   "source": [
    "Savana = Employee('Savana', 22)\n",
    "Savana.say_id()\n",
    "Savana.say_age()\n",
    "\n",
    "Dakota = Employee('Dakota', 17)\n",
    "Dakota.say_id()\n",
    "Dakota.say_age()"
   ]
  }
 ],
 "metadata": {
  "kernelspec": {
   "display_name": "Python 3 (ipykernel)",
   "language": "python",
   "name": "python3"
  },
  "language_info": {
   "codemirror_mode": {
    "name": "ipython",
    "version": 3
   },
   "file_extension": ".py",
   "mimetype": "text/x-python",
   "name": "python",
   "nbconvert_exporter": "python",
   "pygments_lexer": "ipython3",
   "version": "3.11.4"
  }
 },
 "nbformat": 4,
 "nbformat_minor": 5
}
