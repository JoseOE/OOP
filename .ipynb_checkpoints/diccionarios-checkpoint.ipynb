{
 "cells": [
  {
   "cell_type": "code",
   "execution_count": 44,
   "id": "4244609a-3c3a-4ee4-ac8b-5610a9fc56b1",
   "metadata": {},
   "outputs": [],
   "source": [
    "dict = {'Nombre' : 'Chema', 'Edad' : 18, 'Altura' : 1.70}"
   ]
  },
  {
   "cell_type": "code",
   "execution_count": 50,
   "id": "953802ea-6309-4af8-88f2-f27afb4a96af",
   "metadata": {},
   "outputs": [
    {
     "name": "stdout",
     "output_type": "stream",
     "text": [
      "{'Nombre': 'Chema', 'Edad': 18, 'Altura': 1.7}\n",
      "Nombre\n",
      "Edad\n",
      "Altura\n",
      "Nombre\n",
      "Edad\n",
      "Altura\n",
      "Chema\n",
      "18\n",
      "1.7\n",
      "Chema\n"
     ]
    }
   ],
   "source": [
    "print(dict)\n",
    "\n",
    "for valor in dict :\n",
    "    print (valor)\n",
    "\n",
    "for valor in dict.keys() :\n",
    "    print (valor)\n",
    "\n",
    "for valor in dict.values() :\n",
    "    print (valor)\n",
    "\n",
    "print(dict['Nombre'])"
   ]
  },
  {
   "cell_type": "code",
   "execution_count": 40,
   "id": "6a32a436-9296-46de-9c2b-becbefce22db",
   "metadata": {},
   "outputs": [],
   "source": [
    "Lista = [2, 3, -5, 4]"
   ]
  },
  {
   "cell_type": "code",
   "execution_count": 42,
   "id": "e72d7d72-5b04-4446-aaf7-577766a3523a",
   "metadata": {},
   "outputs": [
    {
     "name": "stdout",
     "output_type": "stream",
     "text": [
      "[2, 3, -5, 4]\n",
      "2\n",
      "3\n",
      "-5\n",
      "4\n"
     ]
    }
   ],
   "source": [
    "print(Lista)\n",
    "for valor in Lista :\n",
    "    print (valor)"
   ]
  }
 ],
 "metadata": {
  "kernelspec": {
   "display_name": "Python 3 (ipykernel)",
   "language": "python",
   "name": "python3"
  },
  "language_info": {
   "codemirror_mode": {
    "name": "ipython",
    "version": 3
   },
   "file_extension": ".py",
   "mimetype": "text/x-python",
   "name": "python",
   "nbconvert_exporter": "python",
   "pygments_lexer": "ipython3",
   "version": "3.11.4"
  }
 },
 "nbformat": 4,
 "nbformat_minor": 5
}
