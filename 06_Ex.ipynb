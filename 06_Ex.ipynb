{
 "cells": [
  {
   "cell_type": "markdown",
   "id": "7ca69bd2-06a2-4df1-a5dc-3bfd2f0d5807",
   "metadata": {},
   "source": [
    "# Ejercicio 6 de OOP"
   ]
  },
  {
   "cell_type": "markdown",
   "id": "5a49609e-b766-4ca3-a284-37e4f5788315",
   "metadata": {},
   "source": [
    "\n",
    "<img src=\"./Diagramas_clases/06_herencia__multiple_company.jpeg\" alt=\"Ex 6\" width=\"300\">"
   ]
  },
  {
   "cell_type": "markdown",
   "id": "f7d9acff-c28a-4148-b886-093650136d3f",
   "metadata": {},
   "source": [
    "## Clase Employee\n",
    "- **int id**: Atributo de instancia. Identifica de manera unica a cada instancia de `Employee`.\n",
    "- **int new_id**: Atributo de clase. Identificador unico.\n",
    "- **void say_id()**: Imprime 'Mi id es: {self.id}.\n"
   ]
  },
  {
   "cell_type": "code",
   "execution_count": 67,
   "id": "9ac1bbbf-0de3-4d95-9cf7-fdda9042a66d",
   "metadata": {},
   "outputs": [],
   "source": [
    "class Employee:\n",
    "    new_id = 1\n",
    "    \n",
    "    def __init__(self):\n",
    "        self.id = Employee.new_id        \n",
    "        Employee.new_id += 1\n",
    "        \n",
    "    def say_id(self):\n",
    "        print(f'Mi id es {self.id}')"
   ]
  },
  {
   "cell_type": "code",
   "execution_count": 68,
   "id": "740e0ab8-c7d5-45e6-857c-c5717d844f2d",
   "metadata": {},
   "outputs": [
    {
     "name": "stdout",
     "output_type": "stream",
     "text": [
      "Mi id es 1\n"
     ]
    }
   ],
   "source": [
    "Edwin = Employee()\n",
    "Edwin.say_id()"
   ]
  },
  {
   "cell_type": "markdown",
   "id": "c1082332-aacb-4f29-ad13-7550e00daae9",
   "metadata": {},
   "source": [
    "\n",
    "## Clase User\n",
    "- **str role**: Atributo de instancia. Funcion de `User` p.ej.\n",
    "    - Administrador\n",
    "    - Manager\n",
    "    - Usuario\n",
    "- **str username**: Atributo de instancia. Nombre del usuario.\n",
    "- **void say_user_info()**: Imprime 'Mi nombre es {self.username} y soy {self.role}.'.\n"
   ]
  },
  {
   "cell_type": "code",
   "execution_count": 69,
   "id": "0f7fc536-54ce-4e2c-a2c1-5c4543c13576",
   "metadata": {},
   "outputs": [],
   "source": [
    "class User:\n",
    "    def __init__(self, role, name):\n",
    "        self.role = role\n",
    "        self.name = name\n",
    "    def say_user_info(self):\n",
    "        print(f'Mi nombre es {self.name} y soy {self.role}')"
   ]
  },
  {
   "cell_type": "code",
   "execution_count": 70,
   "id": "94816158-462a-43e9-a091-f75dad0e38fe",
   "metadata": {},
   "outputs": [
    {
     "name": "stdout",
     "output_type": "stream",
     "text": [
      "Mi nombre es Edwin y soy Manager\n"
     ]
    }
   ],
   "source": [
    "Edwin = User('Manager', 'Edwin')\n",
    "Edwin.say_user_info()"
   ]
  },
  {
   "cell_type": "markdown",
   "id": "42d07bc6-2d81-4d9f-96b8-b780dd6dd078",
   "metadata": {},
   "source": [
    "\n",
    "## Clase Admin\n",
    "- **void say_id()**: Imprime:\n",
    "    - 'Mi id es: {self.id}.\n",
    "    - 'Soy un Administrador \\\\(0-0)/'.\n",
    "    "
   ]
  },
  {
   "cell_type": "code",
   "execution_count": 71,
   "id": "e594870c-8eee-467d-a73e-0ad4ea40e367",
   "metadata": {},
   "outputs": [],
   "source": [
    "class Admin(Employee):\n",
    "    def say_id(self):\n",
    "        super().say_id()\n",
    "        print('Soy un administrador \\(0-0)/')"
   ]
  },
  {
   "cell_type": "code",
   "execution_count": 72,
   "id": "9de7b93f-9766-4ada-b83f-29d683944b61",
   "metadata": {},
   "outputs": [
    {
     "name": "stdout",
     "output_type": "stream",
     "text": [
      "Mi id es 2\n",
      "Soy un administrador \\(0-0)/\n"
     ]
    }
   ],
   "source": [
    "Edwin = Admin()\n",
    "Edwin.say_id()"
   ]
  },
  {
   "cell_type": "markdown",
   "id": "55fed8da-a80f-482e-9ac1-fb7ca5e9c884",
   "metadata": {},
   "source": [
    "## Clase Manager\n",
    "- **void say_id()**: Imprime:\n",
    "    - 'Mi id es: {self.id}.\n",
    "    - 'Soy un Administrador \\\\(0-0)/'.    \n",
    "    - 'Y estoy al mando'"
   ]
  },
  {
   "cell_type": "code",
   "execution_count": 73,
   "id": "4d46d5b6-2a9e-4b9b-92d9-cea04d71a07e",
   "metadata": {},
   "outputs": [],
   "source": [
    "class Manager(Admin):\n",
    "    def say_id(self):\n",
    "        super().say_id()\n",
    "        print('Y estoy al mando')"
   ]
  },
  {
   "cell_type": "code",
   "execution_count": 74,
   "id": "7b5cc398-750a-4eee-ac95-489e2769e06f",
   "metadata": {},
   "outputs": [
    {
     "name": "stdout",
     "output_type": "stream",
     "text": [
      "Mi id es 3\n",
      "Soy un administrador \\(0-0)/\n",
      "Y estoy al mando\n"
     ]
    }
   ],
   "source": [
    "Edwin = Manager()\n",
    "Edwin.say_id()"
   ]
  }
 ],
 "metadata": {
  "kernelspec": {
   "display_name": "Python 3 (ipykernel)",
   "language": "python",
   "name": "python3"
  },
  "language_info": {
   "codemirror_mode": {
    "name": "ipython",
    "version": 3
   },
   "file_extension": ".py",
   "mimetype": "text/x-python",
   "name": "python",
   "nbconvert_exporter": "python",
   "pygments_lexer": "ipython3",
   "version": "3.11.4"
  }
 },
 "nbformat": 4,
 "nbformat_minor": 5
}
