{
 "cells": [
  {
   "cell_type": "markdown",
   "id": "210b1e92-86fd-48d1-bb29-c2bd11c33581",
   "metadata": {},
   "source": [
    "## Ejercicio 3 de OOP"
   ]
  },
  {
   "cell_type": "markdown",
   "id": "6d82182b-e640-4d73-8525-9abc0dc894c2",
   "metadata": {},
   "source": [
    "<img src=\"./Diagramas_clases/03_herencia.png\" alt=\"Ex 1\" width=\"500\">"
   ]
  },
  {
   "cell_type": "code",
   "execution_count": null,
   "id": "77b067bf-24e1-4d07-a50b-1d2b0f64d0df",
   "metadata": {},
   "outputs": [],
   "source": []
  }
 ],
 "metadata": {
  "kernelspec": {
   "display_name": "Python 3 (ipykernel)",
   "language": "python",
   "name": "python3"
  },
  "language_info": {
   "codemirror_mode": {
    "name": "ipython",
    "version": 3
   },
   "file_extension": ".py",
   "mimetype": "text/x-python",
   "name": "python",
   "nbconvert_exporter": "python",
   "pygments_lexer": "ipython3",
   "version": "3.11.4"
  }
 },
 "nbformat": 4,
 "nbformat_minor": 5
}
