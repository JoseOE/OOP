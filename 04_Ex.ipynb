{
 "cells": [
  {
   "cell_type": "markdown",
   "id": "f18a4228-5879-401a-ba79-16641f75c7cf",
   "metadata": {},
   "source": [
    "## Ejercicio 4 de OOP"
   ]
  },
  {
   "cell_type": "markdown",
   "id": "805f88e6-60d1-4789-abc0-7ded67505189",
   "metadata": {},
   "source": [
    "<img src=\"./Diagramas_clases/04_overrinding.png\" alt=\"Ex 1\" width=\"500\">"
   ]
  },
  {
   "cell_type": "markdown",
   "id": "44c0cb3b-872a-4553-86a8-930f6ba70a16",
   "metadata": {},
   "source": [
    "## Clase Animal\n",
    "- *str name*: Atributo de instancia. Nombre del animal.\n",
    "- *void eat()*: Imprime 'Yummy yummy! estoy comiendo.'.\n",
    "- *void make_noise()*: Imprime '{self.name} hace Grrrr!.'."
   ]
  },
  {
   "cell_type": "code",
   "execution_count": 3,
   "id": "65d09676-262a-457d-a1a5-99ccd3a74641",
   "metadata": {},
   "outputs": [],
   "source": [
    "class Animal:\n",
    "    def __init__(self, name):\n",
    "        self.name = name\n",
    "    def eat(self):\n",
    "        print(f'Yummy yummy! estoy comiendo')\n",
    "    def make_noise(self):\n",
    "        print(f'{self.name} hace Grrr!')"
   ]
  },
  {
   "cell_type": "code",
   "execution_count": 5,
   "id": "b565a0b6-e6b5-4ee4-a26f-5c85a8bd4d8b",
   "metadata": {},
   "outputs": [
    {
     "name": "stdout",
     "output_type": "stream",
     "text": [
      "Yummy yummy! estoy comiendo\n",
      "michu hace Grrr!\n"
     ]
    }
   ],
   "source": [
    "michu = Animal('michu')\n",
    "michu.eat()\n",
    "michu.make_noise()"
   ]
  },
  {
   "cell_type": "markdown",
   "id": "6be8648f-5233-499e-a7f1-c40b18b1b036",
   "metadata": {},
   "source": [
    "## Clase Cat\n",
    "- *void make_noise()*: Imprime '{self.name} hace Rrrrrr!.'.\n",
    "- *void meow()*: Imprime 'Soy un gato y hago Meow!.'."
   ]
  },
  {
   "cell_type": "code",
   "execution_count": 10,
   "id": "ca9afb27-04df-42b6-ba28-c5c9d6d917a9",
   "metadata": {},
   "outputs": [],
   "source": [
    "class Cat(Animal):\n",
    "    def make_noise(self):\n",
    "        print(f'{self.name} hace Rrrrrrrr!')\n",
    "    def meow(self):\n",
    "        print(f'Soy {self.name} y hago meow!')"
   ]
  },
  {
   "cell_type": "code",
   "execution_count": 11,
   "id": "0f05cc79-a3fd-43b0-b19a-febab0d97235",
   "metadata": {},
   "outputs": [
    {
     "name": "stdout",
     "output_type": "stream",
     "text": [
      "Soy Max y hago meow!\n",
      "Max hace Rrrrrrrr!\n",
      "Yummy yummy! estoy comiendo\n"
     ]
    }
   ],
   "source": [
    "Max = Cat('Max')\n",
    "Max.meow()\n",
    "Max.make_noise()\n",
    "Max.eat()"
   ]
  },
  {
   "cell_type": "markdown",
   "id": "bbbf6621-a8d4-411d-8ad7-f1c44ac52252",
   "metadata": {},
   "source": [
    "## Clase Dog\n",
    "- *void bark()*: Imprime 'Soy un perro y hago woof woof!'."
   ]
  },
  {
   "cell_type": "code",
   "execution_count": 13,
   "id": "0666172b-f334-4804-90b6-a680a782bfd3",
   "metadata": {},
   "outputs": [],
   "source": [
    "class Dog(Animal):\n",
    "    def bark(self):\n",
    "        print(f'Soy {self.name} y hago woof!')"
   ]
  },
  {
   "cell_type": "code",
   "execution_count": 14,
   "id": "5f666b46-7a16-4e2c-ac7b-3c439613e4ee",
   "metadata": {},
   "outputs": [
    {
     "name": "stdout",
     "output_type": "stream",
     "text": [
      "Soy firulais y hago woof!\n",
      "Yummy yummy! estoy comiendo\n",
      "firulais hace Grrr!\n"
     ]
    }
   ],
   "source": [
    "firulais = Dog('firulais')\n",
    "firulais.bark()\n",
    "firulais.eat()\n",
    "firulais.make_noise()"
   ]
  }
 ],
 "metadata": {
  "kernelspec": {
   "display_name": "Python 3 (ipykernel)",
   "language": "python",
   "name": "python3"
  },
  "language_info": {
   "codemirror_mode": {
    "name": "ipython",
    "version": 3
   },
   "file_extension": ".py",
   "mimetype": "text/x-python",
   "name": "python",
   "nbconvert_exporter": "python",
   "pygments_lexer": "ipython3",
   "version": "3.11.4"
  }
 },
 "nbformat": 4,
 "nbformat_minor": 5
}
